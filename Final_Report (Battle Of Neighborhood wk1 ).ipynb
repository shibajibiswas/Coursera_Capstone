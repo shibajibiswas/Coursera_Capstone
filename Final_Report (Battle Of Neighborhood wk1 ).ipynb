{
 "cells": [
  {
   "cell_type": "markdown",
   "metadata": {},
   "source": [
    "## FINAL PROJECT REPORT\n",
    "\n",
    "#### This project report file contains the description of project, stakeholders and background discussion.\n",
    "\n",
    "#### The final analysis and related coding with proper markdown documents are kept in seperate file: \n",
    "      File Name: Capstone Project - The Battle of Neighborhoods (Week 1).ipynb\n",
    "\n",
    "### Project Description\n",
    "\n",
    "#### In Module 3, we explored New York City and the city of Toronto and segmented and clustered their neighborhoods. Both cities are very diverse and are the financial capitals of their respective countries. One of the ideas would be to compare the neighborhoods of the two cities and determine how similar or dissimilar they are.\n",
    "\n",
    "### The Stakeholders\n",
    "\n",
    "#### The stakeholders are the investors who wants to open a restaurant, construct a school or start a company and they want to rent or buy a property estate. \n",
    "\n",
    "#### The purpose of this project is to help them better understand the Geographical advantages of different districts so that they can have a best choice of all kinds of investments. In addition, the factors on other advantages and disadvantages are considered.\n",
    "\n",
    "### Discussion of The Background\n",
    "\n",
    "#### I used the foursquare location data.\n",
    "#### The Toronto segmented and its' clustered neighborhoods gave me good examples for new ideas.\n",
    "\n",
    "#### I would need to leverage the foursquare location data to solve or execute. Data science problems always target an audience and are meant to help a group of stakeholders solve a problem, so make sure that I explicitly describe the audience and why they would care about my problem.\n",
    "\n",
    "#### The data set I described here is about Toronto Venues. \n",
    "\n",
    "#### After transforming the data to Json files, I used Pandas to transform them into DataFrame by selecting required data frame. \n",
    "\n",
    "#### Geopy library was used to get the latitude and longitude values. With the locations the maps can be created and we will have a direct understanding of the neighborhoods and the purposed areas. \n",
    "\n",
    "#### The Folium library was used to show maps on different requirements.\n",
    "\n",
    "#### Finally there are different analysis on Toronto specially the clustered/ segmentation analysis.\n",
    "\n",
    "####  I hope my analysis will do good for better data to open a company and choose a good place to resident in."
   ]
  },
  {
   "cell_type": "code",
   "execution_count": null,
   "metadata": {
    "collapsed": true
   },
   "outputs": [],
   "source": []
  }
 ],
 "metadata": {
  "kernelspec": {
   "display_name": "Python 3",
   "language": "python",
   "name": "python3"
  },
  "language_info": {
   "codemirror_mode": {
    "name": "ipython",
    "version": 3
   },
   "file_extension": ".py",
   "mimetype": "text/x-python",
   "name": "python",
   "nbconvert_exporter": "python",
   "pygments_lexer": "ipython3",
   "version": "3.6.2"
  }
 },
 "nbformat": 4,
 "nbformat_minor": 2
}
